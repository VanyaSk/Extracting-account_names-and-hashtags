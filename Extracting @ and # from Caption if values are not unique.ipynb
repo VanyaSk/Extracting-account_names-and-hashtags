{
 "cells": [
  {
   "cell_type": "code",
   "execution_count": null,
   "metadata": {},
   "outputs": [],
   "source": [
    "import pandas as pd\n",
    "import numpy as np\n",
    "import re\n",
    "import operator"
   ]
  },
  {
   "cell_type": "code",
   "execution_count": null,
   "metadata": {},
   "outputs": [],
   "source": [
    "# Need to use engine='python' if got \"C error: Buffer overflow caught - possible malformed input file\"\n",
    "df = pd.read_csv('C:\\\\Users\\\\iskorokhod\\\\Downloads\\\\customizedshirts_tag.csv')"
   ]
  },
  {
   "cell_type": "code",
   "execution_count": null,
   "metadata": {},
   "outputs": [],
   "source": [
    "no_duplicates = df.drop_duplicates('caption')"
   ]
  },
  {
   "cell_type": "code",
   "execution_count": null,
   "metadata": {},
   "outputs": [],
   "source": [
    "no_duplicates['caption'] = no_duplicates['caption'].astype(str)"
   ]
  },
  {
   "cell_type": "code",
   "execution_count": null,
   "metadata": {},
   "outputs": [],
   "source": [
    "#Extracting @ and # from text\n",
    "account_name = []\n",
    "tag_name = []\n",
    "for account in no_duplicates['caption']: # use caption as a source of data\n",
    "    match = re.findall(r'\\s+@[\\w\\.-]+', account) #extract word starting with @\n",
    "    match = [s.strip() for s in match]  #remove space before @\n",
    "    account_name.append(match)\n",
    "    match_tag = re.findall(r'\\s+#[\\w\\.-]+', account) #extract word starting with #\n",
    "    match_tag = [s.strip() for s in match_tag]  #remove space before #\n",
    "    tag_name.append(match_tag)"
   ]
  },
  {
   "cell_type": "code",
   "execution_count": null,
   "metadata": {},
   "outputs": [],
   "source": [
    "print(len(account_name))\n",
    "print(len(tag_name))"
   ]
  },
  {
   "cell_type": "code",
   "execution_count": null,
   "metadata": {},
   "outputs": [],
   "source": [
    "#Making List from list of lists\n",
    "flat_list_account_names = [item for sublist in account_name for item in sublist]\n",
    "#Making List from list of lists\n",
    "flat_list_tag_names = [item for sublist in tag_name for item in sublist]"
   ]
  },
  {
   "cell_type": "code",
   "execution_count": null,
   "metadata": {},
   "outputs": [],
   "source": [
    "print(len(flat_list_account_names))\n",
    "print(len(flat_list_tag_names))"
   ]
  },
  {
   "cell_type": "code",
   "execution_count": null,
   "metadata": {},
   "outputs": [],
   "source": [
    "#Count how much time each account and hashtag appeared in a list\n",
    "def times_so_far(ls):\n",
    "\n",
    "    out = [0]*len(ls)\n",
    "    counted = {}\n",
    "    for i,v in enumerate(ls):\n",
    "        if v in counted:\n",
    "            counted[v] += 1\n",
    "        else:\n",
    "            counted[v] = 1\n",
    "\n",
    "        out[i] = counted[v]\n",
    "    return counted\n",
    "\n",
    "dict_account_names = times_so_far(flat_list_account_names)\n",
    "dict_tag_names = times_so_far(flat_list_tag_names)"
   ]
  },
  {
   "cell_type": "code",
   "execution_count": null,
   "metadata": {},
   "outputs": [],
   "source": [
    "#Sort dictionary in decsending order. Will get List of tuples\n",
    "sorted_dict_ac_names = sorted(dict_account_names.items(), key=operator.itemgetter(1), reverse = True)\n",
    "print(sorted_dict_ac_names[:10])\n",
    "#Sort dictionary in decsending order. Will get List of tuples\n",
    "sorted_dict_tag_names = sorted(dict_tag_names.items(), key=operator.itemgetter(1), reverse = True)\n",
    "print(sorted_dict_tag_names[:10])"
   ]
  },
  {
   "cell_type": "code",
   "execution_count": null,
   "metadata": {},
   "outputs": [],
   "source": [
    "top100_accs = sorted_dict_ac_names[:100]\n",
    "top100_tags = sorted_dict_tag_names[:100]\n",
    "top100_accs_results = pd.DataFrame(data = top100_accs, columns=['AccountName', 'Accs Number'])\n",
    "top100_tags_results = pd.DataFrame(data = top100_tags, columns=['Tag', 'Tags Number'])\n",
    "top_100_result = top100_accs_results\n",
    "top_100_result[\"Tag\"] = top100_tags_results['Tag']\n",
    "top_100_result[\"Tags Number\"] = top100_tags_results['Tags Number']\n",
    "top_100_result.head()"
   ]
  },
  {
   "cell_type": "code",
   "execution_count": null,
   "metadata": {},
   "outputs": [],
   "source": [
    "top_100_result.to_csv(\"customizedshirts.csv\", index = False)"
   ]
  },
  {
   "cell_type": "code",
   "execution_count": null,
   "metadata": {},
   "outputs": [],
   "source": []
  }
 ],
 "metadata": {
  "kernelspec": {
   "display_name": "Python 3",
   "language": "python",
   "name": "python3"
  },
  "language_info": {
   "codemirror_mode": {
    "name": "ipython",
    "version": 3
   },
   "file_extension": ".py",
   "mimetype": "text/x-python",
   "name": "python",
   "nbconvert_exporter": "python",
   "pygments_lexer": "ipython3",
   "version": "3.6.4"
  }
 },
 "nbformat": 4,
 "nbformat_minor": 2
}
